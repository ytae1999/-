{
  "nbformat": 4,
  "nbformat_minor": 0,
  "metadata": {
    "colab": {
      "name": "Quick sort",
      "provenance": [],
      "collapsed_sections": [],
      "include_colab_link": true
    },
    "kernelspec": {
      "name": "python3",
      "display_name": "Python 3"
    }
  },
  "cells": [
    {
      "cell_type": "markdown",
      "metadata": {
        "id": "view-in-github",
        "colab_type": "text"
      },
      "source": [
        "<a href=\"https://colab.research.google.com/github/ytae1999/Computer-Algorithm/blob/master/Quick_sort.ipynb\" target=\"_parent\"><img src=\"https://colab.research.google.com/assets/colab-badge.svg\" alt=\"Open In Colab\"/></a>"
      ]
    },
    {
      "cell_type": "code",
      "metadata": {
        "id": "tvq5DYDaqsB0",
        "colab_type": "code",
        "outputId": "fd77e387-7bc0-4573-ccd3-a809f58d3526",
        "colab": {
          "base_uri": "https://localhost:8080/",
          "height": 34
        }
      },
      "source": [
        "def quick_sort(array, p , r):\n",
        "  if p < r:\n",
        "    q = partition(array, p, r)\n",
        "    \n",
        "    quick_sort(array, p, q-1)\n",
        "    quick_sort(array, q+1, r)\n",
        "    \n",
        "def partition(array, p, r):\n",
        "  q = p\n",
        "  for i in range(p, r):\n",
        "    if array[i] <= array[r]:\n",
        "      array[q], array[i] = array[i], array[q]\n",
        "      q += 1\n",
        "  \n",
        "  array[q], array[r] = array[r], array[q]\n",
        "  return q\n",
        "\n",
        "array = [9, 7, 5, 11, 12, 2, 14, 3, 10, 6]\n",
        "quick_sort(array, 0, len(array)-1)\n",
        "print(array)"
      ],
      "execution_count": 0,
      "outputs": [
        {
          "output_type": "stream",
          "text": [
            "[2, 3, 5, 6, 7, 9, 10, 11, 12, 14]\n"
          ],
          "name": "stdout"
        }
      ]
    },
    {
      "cell_type": "code",
      "metadata": {
        "id": "mb1HnqTdskHt",
        "colab_type": "code",
        "colab": {}
      },
      "source": [
        ""
      ],
      "execution_count": 0,
      "outputs": []
    }
  ]
}