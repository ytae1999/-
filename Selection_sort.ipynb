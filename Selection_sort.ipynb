{
  "nbformat": 4,
  "nbformat_minor": 0,
  "metadata": {
    "colab": {
      "name": "Selection sort",
      "provenance": [],
      "collapsed_sections": [],
      "include_colab_link": true
    },
    "kernelspec": {
      "name": "python3",
      "display_name": "Python 3"
    }
  },
  "cells": [
    {
      "cell_type": "markdown",
      "metadata": {
        "id": "view-in-github",
        "colab_type": "text"
      },
      "source": [
        "<a href=\"https://colab.research.google.com/github/ytae1999/Computer-Algorithm/blob/master/Selection_sort.ipynb\" target=\"_parent\"><img src=\"https://colab.research.google.com/assets/colab-badge.svg\" alt=\"Open In Colab\"/></a>"
      ]
    },
    {
      "cell_type": "code",
      "metadata": {
        "id": "d612JfyxJ5xP",
        "colab_type": "code",
        "outputId": "0f911f74-0fc5-480e-cefa-61e78be4a3ed",
        "colab": {
          "base_uri": "https://localhost:8080/",
          "height": 34
        }
      },
      "source": [
        "array = [64, 25, 12, 22, 11]\n",
        "for border in range(0, len(array)-1):\n",
        "  min = border\n",
        "  for pointer in range(border + 1, len(array)):\n",
        "    if array[min] > array[pointer]:\n",
        "      min = pointer\n",
        "      \n",
        "  temp = array[border]\n",
        "  array[border] = array[min]\n",
        "  array[min] = temp\n",
        "  \n",
        "print(array)"
      ],
      "execution_count": 0,
      "outputs": [
        {
          "output_type": "stream",
          "text": [
            "[11, 12, 22, 25, 64]\n"
          ],
          "name": "stdout"
        }
      ]
    },
    {
      "cell_type": "code",
      "metadata": {
        "id": "q4V_Bh3s-vYB",
        "colab_type": "code",
        "outputId": "91f0baca-e670-4806-bd99-47e0b178f71d",
        "colab": {
          "base_uri": "https://localhost:8080/",
          "height": 52
        }
      },
      "source": [
        "def selection_sort(array):\n",
        "  \n",
        "  for border in range(0, len(array)-1):\n",
        "    min = border\n",
        "    for pointer in range(border + 1, len(array)):\n",
        "      if array[min] > array[pointer]:\n",
        "        min = pointer\n",
        "      \n",
        "    temp = array[border]\n",
        "    array[border] = array[min]\n",
        "    array[min] = temp\n",
        "\n",
        "array = [64, 24, 12, 22, 11]\n",
        "selection_sort(array)\n",
        "print(array)\n",
        "\n",
        "array = [10, 9, 8, 7, 6, 5, 4, 3, 2, 1]\n",
        "selection_sort(array)\n",
        "print(array)\n"
      ],
      "execution_count": 0,
      "outputs": [
        {
          "output_type": "stream",
          "text": [
            "[11, 12, 22, 24, 64]\n",
            "[1, 2, 3, 4, 5, 6, 7, 8, 9, 10]\n"
          ],
          "name": "stdout"
        }
      ]
    },
    {
      "cell_type": "code",
      "metadata": {
        "id": "9zOYFoMO_Kp4",
        "colab_type": "code",
        "colab": {}
      },
      "source": [
        ""
      ],
      "execution_count": 0,
      "outputs": []
    }
  ]
}