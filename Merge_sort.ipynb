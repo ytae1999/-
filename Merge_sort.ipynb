{
  "nbformat": 4,
  "nbformat_minor": 0,
  "metadata": {
    "colab": {
      "name": "Merge_sort.ipynb",
      "provenance": [],
      "collapsed_sections": [],
      "include_colab_link": true
    },
    "kernelspec": {
      "name": "python3",
      "display_name": "Python 3"
    }
  },
  "cells": [
    {
      "cell_type": "markdown",
      "metadata": {
        "id": "view-in-github",
        "colab_type": "text"
      },
      "source": [
        "<a href=\"https://colab.research.google.com/github/ytae1999/Computer-Algorithm/blob/master/Merge_sort.ipynb\" target=\"_parent\"><img src=\"https://colab.research.google.com/assets/colab-badge.svg\" alt=\"Open In Colab\"/></a>"
      ]
    },
    {
      "cell_type": "code",
      "metadata": {
        "id": "svvmROZ4i_-4",
        "colab_type": "code",
        "colab": {}
      },
      "source": [
        "def merge_sort(array):\n",
        "  left = []\n",
        "  right = []\n",
        "  \n",
        "  if len(array) <= 1:\n",
        "    return array\n",
        "  \n",
        "  else:\n",
        "    middle = len(array)//2\n",
        "    left = array[0:middle]\n",
        "    right = array[middle:]\n",
        "      \n",
        "    left = merge_sort(left)\n",
        "    right = merge_sort(right)\n",
        "    return merge(left, right)\n",
        "  \n",
        "def merge(left, right):\n",
        "  result = []\n",
        "  \n",
        "  while len(left) > 0 and len(right) > 0:\n",
        "    if left[0] <= right[0]:\n",
        "      result.append(left[0])\n",
        "      left.pop(0)   \n",
        "    \n",
        "    else:\n",
        "      result.append(right[0])\n",
        "      right.pop(0)\n",
        "  \n",
        "  if len(left) > 0:\n",
        "    result.extend(left)\n",
        "    \n",
        "  if len(right) > 0:\n",
        "    result.extend(right)\n",
        "    \n",
        "  return result\n",
        "      \n",
        "    "
      ],
      "execution_count": 0,
      "outputs": []
    },
    {
      "cell_type": "code",
      "metadata": {
        "id": "Ohj0ENiqmymM",
        "colab_type": "code",
        "colab": {}
      },
      "source": [
        "def insertion_sort(array):\n",
        "  \n",
        "  for i in range(1, len(array)):\n",
        "    new_member = array[i]\n",
        "    tail_index = i-1\n",
        "    while tail_index >= 0 and new_member < array[tail_index]:\n",
        "      array[tail_index+1] = array[tail_index]\n",
        "      tail_index -= 1\n",
        "    array[tail_index+1] = new_member\n",
        "    \n",
        "  return array"
      ],
      "execution_count": 0,
      "outputs": []
    },
    {
      "cell_type": "code",
      "metadata": {
        "id": "PhtPz2sXo-9R",
        "colab_type": "code",
        "outputId": "f50ae951-9b7b-436e-b4c1-c0cfbe80f289",
        "colab": {
          "base_uri": "https://localhost:8080/",
          "height": 52
        }
      },
      "source": [
        "import random\n",
        "import time\n",
        "\n",
        "n = 20000\n",
        "\n",
        "unordered = []\n",
        "for i in range(0, n):\n",
        "  num = random.randint(1, n)\n",
        "  unordered.append(num)\n",
        "  \n",
        "start = time.time()\n",
        "insertion_sort(unordered.copy())\n",
        "end = time.time()\n",
        "print(end-start)\n",
        "\n",
        "start = time.time()\n",
        "merge_sort(unordered.copy())\n",
        "end = time.time()\n",
        "print(end-start)"
      ],
      "execution_count": 8,
      "outputs": [
        {
          "output_type": "stream",
          "text": [
            "14.620333909988403\n",
            "0.14573121070861816\n"
          ],
          "name": "stdout"
        }
      ]
    },
    {
      "cell_type": "code",
      "metadata": {
        "id": "-mWwwAmYp37x",
        "colab_type": "code",
        "colab": {}
      },
      "source": [
        ""
      ],
      "execution_count": 0,
      "outputs": []
    }
  ]
}