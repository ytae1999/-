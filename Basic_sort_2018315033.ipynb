{
  "nbformat": 4,
  "nbformat_minor": 0,
  "metadata": {
    "colab": {
      "name": "Basic_sort-2018315033.ipynb",
      "provenance": [],
      "collapsed_sections": [],
      "include_colab_link": true
    },
    "kernelspec": {
      "name": "python3",
      "display_name": "Python 3"
    }
  },
  "cells": [
    {
      "cell_type": "markdown",
      "metadata": {
        "id": "view-in-github",
        "colab_type": "text"
      },
      "source": [
        "<a href=\"https://colab.research.google.com/github/ytae1999/Computer-Algorithm/blob/master/Basic_sort_2018315033.ipynb\" target=\"_parent\"><img src=\"https://colab.research.google.com/assets/colab-badge.svg\" alt=\"Open In Colab\"/></a>"
      ]
    },
    {
      "cell_type": "code",
      "metadata": {
        "id": "d3_B6MVW9DL5",
        "colab_type": "code",
        "colab": {}
      },
      "source": [
        "def selection_sort(array):\n",
        "  for border in range(0, len(array)-1):\n",
        "    min = border\n",
        "    for pointer in range(border + 1, len(array)):\n",
        "      if array[min] > array[pointer]:\n",
        "        min = pointer\n",
        "    \n",
        "    temp = array[border]\n",
        "    array[border] = array[min]\n",
        "    array[min] = temp\n",
        "    \n",
        "  return array"
      ],
      "execution_count": 0,
      "outputs": []
    },
    {
      "cell_type": "code",
      "metadata": {
        "id": "2MIshbnC9r9w",
        "colab_type": "code",
        "colab": {}
      },
      "source": [
        "def bubble_sort(array):\n",
        "  for i in range(0, len(array)-1):\n",
        "    for j in range(0, len(array)-i-1):\n",
        "      if array[j] > array[j+1]:\n",
        "        temp = array[j]\n",
        "        array[j] = array[j+1]\n",
        "        array[j+1] = temp\n",
        "  \n",
        "  return array"
      ],
      "execution_count": 0,
      "outputs": []
    },
    {
      "cell_type": "code",
      "metadata": {
        "id": "qi0Sf_Nb9sHP",
        "colab_type": "code",
        "colab": {}
      },
      "source": [
        "def insertion_sort(array):\n",
        "  for i in range(0, len(array)):\n",
        "    newMember = array[i]\n",
        "    tail = i-1\n",
        "    while tail >= 0 and newMember < array[tail]:\n",
        "      array[tail+1] = array[tail]\n",
        "      tail = tail - 1\n",
        "    \n",
        "    array[tail+1] = newMember\n",
        "  \n",
        "  return array"
      ],
      "execution_count": 0,
      "outputs": []
    },
    {
      "cell_type": "code",
      "metadata": {
        "id": "3YnVfmgn92QQ",
        "colab_type": "code",
        "colab": {}
      },
      "source": [
        "unordered = [64, 25, 12, 22, 11]"
      ],
      "execution_count": 0,
      "outputs": []
    },
    {
      "cell_type": "code",
      "metadata": {
        "id": "LcE8tQTp9MZe",
        "colab_type": "code",
        "outputId": "85b47c33-c2d1-40fa-a229-1a83e9b7c9db",
        "colab": {
          "base_uri": "https://localhost:8080/",
          "height": 52
        }
      },
      "source": [
        "ordered = selection_sort(unordered.copy())\n",
        "print(\"[selection sort result]\")\n",
        "ordered"
      ],
      "execution_count": 0,
      "outputs": [
        {
          "output_type": "stream",
          "text": [
            "[selection sort result]\n"
          ],
          "name": "stdout"
        },
        {
          "output_type": "execute_result",
          "data": {
            "text/plain": [
              "[11, 12, 22, 25, 64]"
            ]
          },
          "metadata": {
            "tags": []
          },
          "execution_count": 65
        }
      ]
    },
    {
      "cell_type": "code",
      "metadata": {
        "id": "ZpkSBY3G95Q4",
        "colab_type": "code",
        "outputId": "9fbd0df3-132b-4a58-e39c-a2972faccd37",
        "colab": {
          "base_uri": "https://localhost:8080/",
          "height": 52
        }
      },
      "source": [
        "ordered = bubble_sort(unordered.copy())\n",
        "print(\"[bubble sort result]\")\n",
        "ordered"
      ],
      "execution_count": 0,
      "outputs": [
        {
          "output_type": "stream",
          "text": [
            "[bubble sort result]\n"
          ],
          "name": "stdout"
        },
        {
          "output_type": "execute_result",
          "data": {
            "text/plain": [
              "[11, 12, 22, 25, 64]"
            ]
          },
          "metadata": {
            "tags": []
          },
          "execution_count": 66
        }
      ]
    },
    {
      "cell_type": "code",
      "metadata": {
        "id": "7rSnLFay99Zo",
        "colab_type": "code",
        "outputId": "90633cdc-b7ed-4224-8e09-6a8d0d646eee",
        "colab": {
          "base_uri": "https://localhost:8080/",
          "height": 52
        }
      },
      "source": [
        "ordered = insertion_sort(unordered.copy())\n",
        "print(\"[insertion sort result]\")\n",
        "ordered"
      ],
      "execution_count": 0,
      "outputs": [
        {
          "output_type": "stream",
          "text": [
            "[insertion sort result]\n"
          ],
          "name": "stdout"
        },
        {
          "output_type": "execute_result",
          "data": {
            "text/plain": [
              "[11, 12, 22, 25, 64]"
            ]
          },
          "metadata": {
            "tags": []
          },
          "execution_count": 67
        }
      ]
    }
  ]
}